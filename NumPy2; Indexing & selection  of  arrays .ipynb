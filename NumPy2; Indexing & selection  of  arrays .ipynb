{
 "cells": [
  {
   "cell_type": "code",
   "execution_count": 1,
   "id": "c5978c92-6e31-40f7-ad0a-ed3646231275",
   "metadata": {},
   "outputs": [],
   "source": [
    "import numpy as np"
   ]
  },
  {
   "cell_type": "raw",
   "id": "6c461fd0-24d9-4bd5-9b78-d967bdb6dcb5",
   "metadata": {},
   "source": [
    "Importing numpy"
   ]
  },
  {
   "cell_type": "code",
   "execution_count": 2,
   "id": "d1616f3e-3b70-4021-9a1d-eb66d0961c44",
   "metadata": {},
   "outputs": [],
   "source": [
    "arr =np.arange(0,11)"
   ]
  },
  {
   "cell_type": "code",
   "execution_count": 3,
   "id": "a9e79a33-3c12-4fec-8c48-de68889d3943",
   "metadata": {},
   "outputs": [
    {
     "data": {
      "text/plain": [
       "array([ 0,  1,  2,  3,  4,  5,  6,  7,  8,  9, 10])"
      ]
     },
     "execution_count": 3,
     "metadata": {},
     "output_type": "execute_result"
    }
   ],
   "source": [
    "arr"
   ]
  },
  {
   "cell_type": "code",
   "execution_count": 5,
   "id": "402d512e-1769-451e-9f6e-800558868c3b",
   "metadata": {},
   "outputs": [
    {
     "data": {
      "text/plain": [
       "8"
      ]
     },
     "execution_count": 5,
     "metadata": {},
     "output_type": "execute_result"
    }
   ],
   "source": [
    "arr[8] # indexing in one dimession"
   ]
  },
  {
   "cell_type": "code",
   "execution_count": 7,
   "id": "80ccc046-1a51-4fc5-bce3-4002809a283e",
   "metadata": {},
   "outputs": [
    {
     "data": {
      "text/plain": [
       "array([1, 2, 3, 4])"
      ]
     },
     "execution_count": 7,
     "metadata": {},
     "output_type": "execute_result"
    }
   ],
   "source": [
    "arr[1:5] "
   ]
  },
  {
   "cell_type": "code",
   "execution_count": 8,
   "id": "08d691ad-b4f3-462f-8b8a-56c2b7af61d5",
   "metadata": {},
   "outputs": [
    {
     "data": {
      "text/plain": [
       "array([0, 1, 2, 3, 4])"
      ]
     },
     "execution_count": 8,
     "metadata": {},
     "output_type": "execute_result"
    }
   ],
   "source": [
    "arr[0:5]"
   ]
  },
  {
   "cell_type": "code",
   "execution_count": 9,
   "id": "48785850-d9ee-4302-bd22-838e6f89b31f",
   "metadata": {},
   "outputs": [
    {
     "data": {
      "text/plain": [
       "array([0, 1, 2, 3, 4])"
      ]
     },
     "execution_count": 9,
     "metadata": {},
     "output_type": "execute_result"
    }
   ],
   "source": [
    "arr[:5]"
   ]
  },
  {
   "cell_type": "code",
   "execution_count": 10,
   "id": "b3ab12bb-86da-40fd-aca6-68e16980aa4c",
   "metadata": {},
   "outputs": [
    {
     "data": {
      "text/plain": [
       "array([ 3,  4,  5,  6,  7,  8,  9, 10])"
      ]
     },
     "execution_count": 10,
     "metadata": {},
     "output_type": "execute_result"
    }
   ],
   "source": [
    "arr[3:]"
   ]
  },
  {
   "cell_type": "code",
   "execution_count": 14,
   "id": "713ae1d8-58c9-4ab8-b17f-35b5405b75de",
   "metadata": {},
   "outputs": [],
   "source": [
    "#BRODCASTING"
   ]
  },
  {
   "cell_type": "code",
   "execution_count": 15,
   "id": "da7741bc-f211-4451-85c6-18efc48c9bcb",
   "metadata": {},
   "outputs": [],
   "source": [
    "arr[:5] =  100"
   ]
  },
  {
   "cell_type": "code",
   "execution_count": 16,
   "id": "51e66951-3fce-4a66-bd8f-b8392009d40d",
   "metadata": {},
   "outputs": [
    {
     "data": {
      "text/plain": [
       "array([100, 100, 100, 100, 100,   5,   6,   7,   8,   9,  10])"
      ]
     },
     "execution_count": 16,
     "metadata": {},
     "output_type": "execute_result"
    }
   ],
   "source": [
    "arr"
   ]
  },
  {
   "cell_type": "code",
   "execution_count": 26,
   "id": "3a325c0f-9dee-474d-83b6-207832ebf0d8",
   "metadata": {},
   "outputs": [],
   "source": [
    "arr =np.arange(0,11)"
   ]
  },
  {
   "cell_type": "code",
   "execution_count": 27,
   "id": "011be428-cac0-4426-b5b6-221a5c7546ce",
   "metadata": {},
   "outputs": [],
   "source": [
    "slic_arr = arr[0:5] # only act as a poninter to original array"
   ]
  },
  {
   "cell_type": "code",
   "execution_count": 29,
   "id": "0671814f-7fa5-48aa-a3a3-e67cd11d2485",
   "metadata": {},
   "outputs": [
    {
     "data": {
      "text/plain": [
       "array([0, 1, 2, 3, 4])"
      ]
     },
     "execution_count": 29,
     "metadata": {},
     "output_type": "execute_result"
    }
   ],
   "source": [
    "slic_arr\n"
   ]
  },
  {
   "cell_type": "code",
   "execution_count": 30,
   "id": "0045b7fc-f4d1-4231-8370-f17857e689df",
   "metadata": {},
   "outputs": [
    {
     "data": {
      "text/plain": [
       "array([ 0,  1,  2,  3,  4,  5,  6,  7,  8,  9, 10])"
      ]
     },
     "execution_count": 30,
     "metadata": {},
     "output_type": "execute_result"
    }
   ],
   "source": [
    "arr   "
   ]
  },
  {
   "cell_type": "code",
   "execution_count": 31,
   "id": "f861ee4a-ee90-46eb-90ea-b02d946d7edc",
   "metadata": {},
   "outputs": [],
   "source": [
    "slic_arr[:] =78# if we change in slic of array then original array is also effected"
   ]
  },
  {
   "cell_type": "code",
   "execution_count": 32,
   "id": "98204e81-910c-4fc5-8699-ec4c394e5299",
   "metadata": {},
   "outputs": [
    {
     "data": {
      "text/plain": [
       "array([78, 78, 78, 78, 78,  5,  6,  7,  8,  9, 10])"
      ]
     },
     "execution_count": 32,
     "metadata": {},
     "output_type": "execute_result"
    }
   ],
   "source": [
    "arr"
   ]
  },
  {
   "cell_type": "code",
   "execution_count": 33,
   "id": "001daaa0-e67b-47da-a106-5451002b9327",
   "metadata": {},
   "outputs": [
    {
     "data": {
      "text/plain": [
       "array([78, 78, 78, 78, 78])"
      ]
     },
     "execution_count": 33,
     "metadata": {},
     "output_type": "execute_result"
    }
   ],
   "source": [
    "slic_arr"
   ]
  },
  {
   "cell_type": "code",
   "execution_count": 34,
   "id": "f6e4252d-b67b-45b6-bab9-23e5d3999fe5",
   "metadata": {},
   "outputs": [],
   "source": [
    "arr_copy = arr.copy()# to not effect the origianl array we use .copy() method to create a copy of array:"
   ]
  },
  {
   "cell_type": "code",
   "execution_count": 35,
   "id": "b6c6b1fa-ce64-48e6-a302-69249f3043bc",
   "metadata": {},
   "outputs": [
    {
     "data": {
      "text/plain": [
       "array([78, 78, 78, 78, 78,  5,  6,  7,  8,  9, 10])"
      ]
     },
     "execution_count": 35,
     "metadata": {},
     "output_type": "execute_result"
    }
   ],
   "source": [
    "arr_copy"
   ]
  },
  {
   "cell_type": "code",
   "execution_count": 36,
   "id": "7684f72c-c851-4709-9dbb-407d1816e602",
   "metadata": {},
   "outputs": [],
   "source": [
    "arr_copy[:8]=99"
   ]
  },
  {
   "cell_type": "code",
   "execution_count": 37,
   "id": "28f3a043-cc8d-476f-aaa3-c20fd11cb3ff",
   "metadata": {},
   "outputs": [
    {
     "data": {
      "text/plain": [
       "array([99, 99, 99, 99, 99, 99, 99, 99,  8,  9, 10])"
      ]
     },
     "execution_count": 37,
     "metadata": {},
     "output_type": "execute_result"
    }
   ],
   "source": [
    "arr_copy"
   ]
  },
  {
   "cell_type": "code",
   "execution_count": null,
   "id": "d2b8b63a-9d2d-4914-a0dc-944406e33110",
   "metadata": {},
   "outputs": [],
   "source": [
    "\n"
   ]
  },
  {
   "cell_type": "code",
   "execution_count": 40,
   "id": "5f3d87d4-5eab-4d13-9188-662186795364",
   "metadata": {},
   "outputs": [],
   "source": [
    "arr2= np.array([[34,23,64],[24,53,21],[26,30,39]])"
   ]
  },
  {
   "cell_type": "code",
   "execution_count": 41,
   "id": "6456b16d-217d-47f5-9562-eb9662794263",
   "metadata": {},
   "outputs": [
    {
     "data": {
      "text/plain": [
       "array([[34, 23, 64],\n",
       "       [24, 53, 21],\n",
       "       [26, 30, 39]])"
      ]
     },
     "execution_count": 41,
     "metadata": {},
     "output_type": "execute_result"
    }
   ],
   "source": [
    "arr2"
   ]
  },
  {
   "cell_type": "code",
   "execution_count": 43,
   "id": "9579444a-ae10-4f90-bbb7-8cfd30bc02e1",
   "metadata": {},
   "outputs": [
    {
     "data": {
      "text/plain": [
       "(3, 3)"
      ]
     },
     "execution_count": 43,
     "metadata": {},
     "output_type": "execute_result"
    }
   ],
   "source": [
    "arr2.shape"
   ]
  },
  {
   "cell_type": "code",
   "execution_count": 44,
   "id": "165060c0-f94f-46e0-b5cb-c79ac8767805",
   "metadata": {},
   "outputs": [
    {
     "data": {
      "text/plain": [
       "array([34, 23, 64])"
      ]
     },
     "execution_count": 44,
     "metadata": {},
     "output_type": "execute_result"
    }
   ],
   "source": [
    "arr2[0]"
   ]
  },
  {
   "cell_type": "code",
   "execution_count": 45,
   "id": "ced9ea22-7fef-458c-9417-e883602d6abf",
   "metadata": {},
   "outputs": [
    {
     "data": {
      "text/plain": [
       "array([26, 30, 39])"
      ]
     },
     "execution_count": 45,
     "metadata": {},
     "output_type": "execute_result"
    }
   ],
   "source": [
    "arr2[-1]"
   ]
  },
  {
   "cell_type": "code",
   "execution_count": 46,
   "id": "eec98016-cd7a-436f-b771-2be7c70cdd06",
   "metadata": {},
   "outputs": [
    {
     "data": {
      "text/plain": [
       "64"
      ]
     },
     "execution_count": 46,
     "metadata": {},
     "output_type": "execute_result"
    }
   ],
   "source": [
    "arr2[0][2]"
   ]
  },
  {
   "cell_type": "code",
   "execution_count": 47,
   "id": "913ff557-e183-42c2-9da4-8ea0348a7a64",
   "metadata": {},
   "outputs": [
    {
     "data": {
      "text/plain": [
       "64"
      ]
     },
     "execution_count": 47,
     "metadata": {},
     "output_type": "execute_result"
    }
   ],
   "source": [
    "arr2[0,2]"
   ]
  },
  {
   "cell_type": "code",
   "execution_count": 48,
   "id": "cc15138b-2b6f-4e07-920d-9ac9b7d843c4",
   "metadata": {},
   "outputs": [
    {
     "data": {
      "text/plain": [
       "30"
      ]
     },
     "execution_count": 48,
     "metadata": {},
     "output_type": "execute_result"
    }
   ],
   "source": [
    "arr2[2,1]"
   ]
  },
  {
   "cell_type": "code",
   "execution_count": 49,
   "id": "73a700a0-c57b-4f4c-b3f5-1a176d7b0d55",
   "metadata": {},
   "outputs": [
    {
     "data": {
      "text/plain": [
       "array([[34, 23, 64],\n",
       "       [24, 53, 21]])"
      ]
     },
     "execution_count": 49,
     "metadata": {},
     "output_type": "execute_result"
    }
   ],
   "source": [
    "arr2[:2]"
   ]
  },
  {
   "cell_type": "code",
   "execution_count": 50,
   "id": "7b873a89-e784-4513-bfae-77aa8e174f1e",
   "metadata": {},
   "outputs": [
    {
     "data": {
      "text/plain": [
       "array([[23, 64],\n",
       "       [53, 21]])"
      ]
     },
     "execution_count": 50,
     "metadata": {},
     "output_type": "execute_result"
    }
   ],
   "source": [
    "arr2[:2,1:]"
   ]
  },
  {
   "cell_type": "code",
   "execution_count": 51,
   "id": "e3c1a325-7db2-43f8-ac39-2dfb85f44960",
   "metadata": {},
   "outputs": [],
   "source": [
    "#CONDITONAL SELECTION"
   ]
  },
  {
   "cell_type": "code",
   "execution_count": 52,
   "id": "e0884103-efbc-43df-9dbe-c2f16206d94a",
   "metadata": {},
   "outputs": [],
   "source": [
    "arr = np.arange(90,101)"
   ]
  },
  {
   "cell_type": "code",
   "execution_count": 53,
   "id": "88795d7e-f8a9-4975-ab36-6fa380171c9f",
   "metadata": {},
   "outputs": [
    {
     "data": {
      "text/plain": [
       "array([ 90,  91,  92,  93,  94,  95,  96,  97,  98,  99, 100])"
      ]
     },
     "execution_count": 53,
     "metadata": {},
     "output_type": "execute_result"
    }
   ],
   "source": [
    "arr"
   ]
  },
  {
   "cell_type": "code",
   "execution_count": 55,
   "id": "1e4c8780-44a7-49c8-bb29-e12bdc3c36c1",
   "metadata": {},
   "outputs": [
    {
     "data": {
      "text/plain": [
       "array([False, False, False, False, False,  True,  True,  True,  True,\n",
       "        True,  True])"
      ]
     },
     "execution_count": 55,
     "metadata": {},
     "output_type": "execute_result"
    }
   ],
   "source": [
    "arr>94"
   ]
  },
  {
   "cell_type": "code",
   "execution_count": 56,
   "id": "48583594-ca36-4c82-9025-7534b4fea21a",
   "metadata": {},
   "outputs": [],
   "source": [
    "bool_arr = arr>95"
   ]
  },
  {
   "cell_type": "code",
   "execution_count": 57,
   "id": "8179f315-1f9f-4ae4-8bef-823fd49bf854",
   "metadata": {},
   "outputs": [
    {
     "data": {
      "text/plain": [
       "array([False, False, False, False, False, False,  True,  True,  True,\n",
       "        True,  True])"
      ]
     },
     "execution_count": 57,
     "metadata": {},
     "output_type": "execute_result"
    }
   ],
   "source": [
    "bool_arr"
   ]
  },
  {
   "cell_type": "code",
   "execution_count": 58,
   "id": "a78e38c1-dcc3-4c63-9103-44437a3d6a02",
   "metadata": {},
   "outputs": [
    {
     "data": {
      "text/plain": [
       "array([ 96,  97,  98,  99, 100])"
      ]
     },
     "execution_count": 58,
     "metadata": {},
     "output_type": "execute_result"
    }
   ],
   "source": [
    "arr[bool_arr]"
   ]
  },
  {
   "cell_type": "code",
   "execution_count": 59,
   "id": "7e14f371-6155-47d3-b111-d1c1e4d8137e",
   "metadata": {},
   "outputs": [
    {
     "data": {
      "text/plain": [
       "array([ 93,  94,  95,  96,  97,  98,  99, 100])"
      ]
     },
     "execution_count": 59,
     "metadata": {},
     "output_type": "execute_result"
    }
   ],
   "source": [
    "arr[arr>92]"
   ]
  },
  {
   "cell_type": "code",
   "execution_count": null,
   "id": "9ff5f0b7-b6cb-48c4-88b1-186b039df3f3",
   "metadata": {},
   "outputs": [],
   "source": []
  }
 ],
 "metadata": {
  "kernelspec": {
   "display_name": "Python 3 (ipykernel)",
   "language": "python",
   "name": "python3"
  },
  "language_info": {
   "codemirror_mode": {
    "name": "ipython",
    "version": 3
   },
   "file_extension": ".py",
   "mimetype": "text/x-python",
   "name": "python",
   "nbconvert_exporter": "python",
   "pygments_lexer": "ipython3",
   "version": "3.12.3"
  }
 },
 "nbformat": 4,
 "nbformat_minor": 5
}
