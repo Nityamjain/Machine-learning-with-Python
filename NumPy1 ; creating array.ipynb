{
 "cells": [
  {
   "cell_type": "code",
   "execution_count": 1,
   "id": "06f8d96e-a074-42d3-8ef1-d163ec51e6ca",
   "metadata": {},
   "outputs": [],
   "source": [
    "import numpy as np # importing numpy"
   ]
  },
  {
   "cell_type": "code",
   "execution_count": 2,
   "id": "3b4f92e7-23f6-42e2-96a1-f9d92353084c",
   "metadata": {},
   "outputs": [],
   "source": [
    "# creating a numpy array"
   ]
  },
  {
   "cell_type": "code",
   "execution_count": 3,
   "id": "82718a57-e5d1-41ca-afc6-6d207113f0f3",
   "metadata": {},
   "outputs": [],
   "source": [
    "#directly transform python array into numpy array"
   ]
  },
  {
   "cell_type": "code",
   "execution_count": 4,
   "id": "96289c78-38a5-4908-8eaa-306b22c3057d",
   "metadata": {},
   "outputs": [],
   "source": [
    "list = [1,2,3]"
   ]
  },
  {
   "cell_type": "code",
   "execution_count": 5,
   "id": "e5574662-2e70-4630-b761-82873aedca21",
   "metadata": {},
   "outputs": [
    {
     "data": {
      "text/plain": [
       "list"
      ]
     },
     "execution_count": 5,
     "metadata": {},
     "output_type": "execute_result"
    }
   ],
   "source": [
    "type(list)"
   ]
  },
  {
   "cell_type": "code",
   "execution_count": 6,
   "id": "3fc55951-9abd-42d9-8104-0d0490839b58",
   "metadata": {},
   "outputs": [
    {
     "data": {
      "text/plain": [
       "array([1, 2, 3])"
      ]
     },
     "execution_count": 6,
     "metadata": {},
     "output_type": "execute_result"
    }
   ],
   "source": [
    "np.array(list)# it is function to conevert the normal array into numpy array "
   ]
  },
  {
   "cell_type": "code",
   "execution_count": 7,
   "id": "193358ab-0a0b-45bf-91f8-a7419a18960f",
   "metadata": {},
   "outputs": [
    {
     "data": {
      "text/plain": [
       "[1, 2, 3]"
      ]
     },
     "execution_count": 7,
     "metadata": {},
     "output_type": "execute_result"
    }
   ],
   "source": [
    "list  # here the origianl list is not affected "
   ]
  },
  {
   "cell_type": "code",
   "execution_count": 8,
   "id": "bf1b028a-10a1-4481-b402-b4b37abd1a5c",
   "metadata": {},
   "outputs": [],
   "source": [
    "myarr = np.array(list) # we have to asign a variable to that to create a numpy arrat"
   ]
  },
  {
   "cell_type": "code",
   "execution_count": 9,
   "id": "a50c1443-183c-4d88-9697-d82fac2a7a28",
   "metadata": {},
   "outputs": [
    {
     "data": {
      "text/plain": [
       "array([1, 2, 3])"
      ]
     },
     "execution_count": 9,
     "metadata": {},
     "output_type": "execute_result"
    }
   ],
   "source": [
    "myarr"
   ]
  },
  {
   "cell_type": "code",
   "execution_count": 10,
   "id": "03b83b58-c673-46df-9b37-c0dd91aaf255",
   "metadata": {},
   "outputs": [
    {
     "data": {
      "text/plain": [
       "numpy.ndarray"
      ]
     },
     "execution_count": 10,
     "metadata": {},
     "output_type": "execute_result"
    }
   ],
   "source": [
    "type(myarr)"
   ]
  },
  {
   "cell_type": "code",
   "execution_count": 18,
   "id": "0c567cf9-e38d-4582-b355-a66cf6a12fa4",
   "metadata": {},
   "outputs": [],
   "source": [
    "matrix =[[1,2,3],[4,5,6],[6,7,8]] # here is two dimenional list"
   ]
  },
  {
   "cell_type": "code",
   "execution_count": 19,
   "id": "fb7ac43d-c673-4c57-9b38-578222a1b90d",
   "metadata": {},
   "outputs": [
    {
     "data": {
      "text/plain": [
       "[[1, 2, 3], [4, 5, 6], [6, 7, 8]]"
      ]
     },
     "execution_count": 19,
     "metadata": {},
     "output_type": "execute_result"
    }
   ],
   "source": [
    "matrix"
   ]
  },
  {
   "cell_type": "code",
   "execution_count": 21,
   "id": "7203b377-298f-4b28-af34-6e7a17fb4e8a",
   "metadata": {},
   "outputs": [
    {
     "data": {
      "text/plain": [
       "array([[1, 2, 3],\n",
       "       [4, 5, 6],\n",
       "       [6, 7, 8]])"
      ]
     },
     "execution_count": 21,
     "metadata": {},
     "output_type": "execute_result"
    }
   ],
   "source": [
    "np.array(matrix)# numpy itself detect the list is two dimmestional so "
   ]
  },
  {
   "cell_type": "code",
   "execution_count": 22,
   "id": "3070237e-48f4-43aa-8312-5c65a0f0ab5e",
   "metadata": {},
   "outputs": [],
   "source": [
    "#built in methods and function in numpy"
   ]
  },
  {
   "cell_type": "code",
   "execution_count": 28,
   "id": "7ca964ac-c62d-45fa-86d3-f26b71787304",
   "metadata": {},
   "outputs": [],
   "source": [
    "#np.arange(start,stop,optional step size) \n",
    "# it generate the data set \n"
   ]
  },
  {
   "cell_type": "code",
   "execution_count": 29,
   "id": "90cf303b-0f03-4437-a255-268eda2bad3e",
   "metadata": {},
   "outputs": [
    {
     "data": {
      "text/plain": [
       "array([0, 2, 4, 6, 8])"
      ]
     },
     "execution_count": 29,
     "metadata": {},
     "output_type": "execute_result"
    }
   ],
   "source": [
    "np.arange(0,10,2) #here it start from 0 and goes upto 10 but not including 10 by step size 2"
   ]
  },
  {
   "cell_type": "code",
   "execution_count": 30,
   "id": "61a59d23-742f-49e8-b5fc-a7a53f28e16c",
   "metadata": {},
   "outputs": [
    {
     "data": {
      "text/plain": [
       "array([ 0,  1,  2,  3,  4,  5,  6,  7,  8,  9, 10, 11])"
      ]
     },
     "execution_count": 30,
     "metadata": {},
     "output_type": "execute_result"
    }
   ],
   "source": [
    "np.arange(0,12) # here we dont give step size"
   ]
  },
  {
   "cell_type": "code",
   "execution_count": 31,
   "id": "6dd6ef00-47d8-4ab6-92f5-d4ecac37065b",
   "metadata": {},
   "outputs": [],
   "source": [
    "#it is comman to create large array of zeros and ones so we use\n",
    "# np.zero(no.of zero)"
   ]
  },
  {
   "cell_type": "code",
   "execution_count": 33,
   "id": "d39e3896-6871-4d9c-b3b4-b2c27dd028c4",
   "metadata": {},
   "outputs": [
    {
     "data": {
      "text/plain": [
       "array([0., 0., 0., 0., 0.])"
      ]
     },
     "execution_count": 33,
     "metadata": {},
     "output_type": "execute_result"
    }
   ],
   "source": [
    "np.zeros(5) # it generate the 0 in  form on floatinf point number"
   ]
  },
  {
   "cell_type": "code",
   "execution_count": 34,
   "id": "3748596b-3fe9-43a3-91c6-441dc1ce85c0",
   "metadata": {},
   "outputs": [
    {
     "data": {
      "text/plain": [
       "array([[0., 0., 0., 0., 0.],\n",
       "       [0., 0., 0., 0., 0.]])"
      ]
     },
     "execution_count": 34,
     "metadata": {},
     "output_type": "execute_result"
    }
   ],
   "source": [
    "np.zeros((2,3))# (rows,columns)"
   ]
  },
  {
   "cell_type": "code",
   "execution_count": 35,
   "id": "829a236d-b2ba-46ca-ae8a-c1aee0a79e3a",
   "metadata": {},
   "outputs": [],
   "source": [
    "#np.ones(no.of ones)"
   ]
  },
  {
   "cell_type": "code",
   "execution_count": 38,
   "id": "29a685c7-d4ec-4d1a-8304-b78f2e0ee273",
   "metadata": {},
   "outputs": [
    {
     "data": {
      "text/plain": [
       "array([1., 1., 1., 1., 1.])"
      ]
     },
     "execution_count": 38,
     "metadata": {},
     "output_type": "execute_result"
    }
   ],
   "source": [
    "np.ones(5)"
   ]
  },
  {
   "cell_type": "code",
   "execution_count": 39,
   "id": "177d05c7-08bb-472e-a2d0-1f78b6a03d12",
   "metadata": {},
   "outputs": [
    {
     "data": {
      "text/plain": [
       "array([[1., 1., 1., 1., 1., 1.],\n",
       "       [1., 1., 1., 1., 1., 1.],\n",
       "       [1., 1., 1., 1., 1., 1.]])"
      ]
     },
     "execution_count": 39,
     "metadata": {},
     "output_type": "execute_result"
    }
   ],
   "source": [
    "np.ones((3,6))"
   ]
  },
  {
   "cell_type": "code",
   "execution_count": 41,
   "id": "4c0f6e9b-75ab-4b5f-9530-c8cebc1df660",
   "metadata": {},
   "outputs": [],
   "source": [
    "#linspace functionb\n",
    "#np.linspace(start,zero,no.between start and zero)"
   ]
  },
  {
   "cell_type": "code",
   "execution_count": 44,
   "id": "ba2d72c4-d383-4bda-b725-c93522df5f1c",
   "metadata": {},
   "outputs": [
    {
     "data": {
      "text/plain": [
       "array([ 0.        ,  0.90909091,  1.81818182,  2.72727273,  3.63636364,\n",
       "        4.54545455,  5.45454545,  6.36363636,  7.27272727,  8.18181818,\n",
       "        9.09090909, 10.        ])"
      ]
     },
     "execution_count": 44,
     "metadata": {},
     "output_type": "execute_result"
    }
   ],
   "source": [
    "np.linspace(0,10,12)"
   ]
  },
  {
   "cell_type": "code",
   "execution_count": 45,
   "id": "15b38624-d045-49f0-9726-6e5cb2c48365",
   "metadata": {},
   "outputs": [
    {
     "data": {
      "text/plain": [
       "array([0.        , 0.04545455, 0.09090909, 0.13636364, 0.18181818,\n",
       "       0.22727273, 0.27272727, 0.31818182, 0.36363636, 0.40909091,\n",
       "       0.45454545, 0.5       , 0.54545455, 0.59090909, 0.63636364,\n",
       "       0.68181818, 0.72727273, 0.77272727, 0.81818182, 0.86363636,\n",
       "       0.90909091, 0.95454545, 1.        ])"
      ]
     },
     "execution_count": 45,
     "metadata": {},
     "output_type": "execute_result"
    }
   ],
   "source": [
    "np.linspace(0,1,23)"
   ]
  },
  {
   "cell_type": "code",
   "execution_count": 47,
   "id": "9c27ea40-a0c8-4fa0-a145-89726e09127d",
   "metadata": {},
   "outputs": [
    {
     "data": {
      "text/plain": [
       "32"
      ]
     },
     "execution_count": 47,
     "metadata": {},
     "output_type": "execute_result"
    }
   ],
   "source": [
    "len(np.linspace(0,12,32))"
   ]
  },
  {
   "cell_type": "code",
   "execution_count": 49,
   "id": "678075fb-614e-4085-ac52-a429914adbfc",
   "metadata": {},
   "outputs": [],
   "source": [
    "# eye function\n",
    "# used to create identity matrix\n",
    "# np.eye(no of rows & columns)"
   ]
  },
  {
   "cell_type": "code",
   "execution_count": 50,
   "id": "2a18d714-c67d-4f56-bf68-3cd83fbcd80f",
   "metadata": {},
   "outputs": [
    {
     "data": {
      "text/plain": [
       "array([[1., 0., 0., 0., 0., 0., 0.],\n",
       "       [0., 1., 0., 0., 0., 0., 0.],\n",
       "       [0., 0., 1., 0., 0., 0., 0.],\n",
       "       [0., 0., 0., 1., 0., 0., 0.],\n",
       "       [0., 0., 0., 0., 1., 0., 0.],\n",
       "       [0., 0., 0., 0., 0., 1., 0.],\n",
       "       [0., 0., 0., 0., 0., 0., 1.]])"
      ]
     },
     "execution_count": 50,
     "metadata": {},
     "output_type": "execute_result"
    }
   ],
   "source": [
    "np.eye(7)"
   ]
  },
  {
   "cell_type": "code",
   "execution_count": 51,
   "id": "9297fb6c-9bdd-4d3e-bac6-6501c2348809",
   "metadata": {},
   "outputs": [
    {
     "data": {
      "text/plain": [
       "array([[1., 0.],\n",
       "       [0., 1.]])"
      ]
     },
     "execution_count": 51,
     "metadata": {},
     "output_type": "execute_result"
    }
   ],
   "source": [
    "np.eye(2)"
   ]
  },
  {
   "cell_type": "code",
   "execution_count": null,
   "id": "b8f95302-3aa7-477b-a7e2-a4692acbcc35",
   "metadata": {},
   "outputs": [],
   "source": []
  },
  {
   "cell_type": "code",
   "execution_count": 52,
   "id": "0538b146-d596-44ff-b044-463ffe077fb2",
   "metadata": {},
   "outputs": [],
   "source": [
    "# how to create random dirstirbution of data"
   ]
  },
  {
   "cell_type": "code",
   "execution_count": 53,
   "id": "66ef9dbd-d0d9-45a8-8071-35ee3a27d200",
   "metadata": {},
   "outputs": [],
   "source": [
    "#numpy comes with its own random library \n",
    "# here are some random function on numpy"
   ]
  },
  {
   "cell_type": "code",
   "execution_count": 55,
   "id": "726a0b1e-0519-4abc-ac73-75b46418cdbd",
   "metadata": {},
   "outputs": [],
   "source": [
    "#1. np.random.rand (no.of rows,&no.of columns) \n",
    "#reate an array of the givenn shape and populate it with random samples from a uniform distribution over ``[0, 1)``"
   ]
  },
  {
   "cell_type": "code",
   "execution_count": 56,
   "id": "64b5549a-5786-47db-8b0e-dbc3918f243e",
   "metadata": {},
   "outputs": [
    {
     "data": {
      "text/plain": [
       "array([0.05986976])"
      ]
     },
     "execution_count": 56,
     "metadata": {},
     "output_type": "execute_result"
    }
   ],
   "source": [
    "np.random.rand(1)"
   ]
  },
  {
   "cell_type": "code",
   "execution_count": 60,
   "id": "63773ed5-6eba-4c03-82b6-8b6e9a7bb2c9",
   "metadata": {},
   "outputs": [
    {
     "data": {
      "text/plain": [
       "array([[0.44272954, 0.08355979],\n",
       "       [0.30383634, 0.68095782],\n",
       "       [0.65265727, 0.68413008],\n",
       "       [0.09362513, 0.83101677],\n",
       "       [0.40251891, 0.31128203],\n",
       "       [0.30755569, 0.1237275 ],\n",
       "       [0.16596916, 0.95503199],\n",
       "       [0.68225562, 0.05594923],\n",
       "       [0.53184222, 0.31140182]])"
      ]
     },
     "execution_count": 60,
     "metadata": {},
     "output_type": "execute_result"
    }
   ],
   "source": [
    "np.random.rand(9,2)"
   ]
  },
  {
   "cell_type": "code",
   "execution_count": 61,
   "id": "8e91c17c-0d27-4010-a379-3d46e8aebf7b",
   "metadata": {},
   "outputs": [],
   "source": [
    "#2.np.random.randn()\n",
    "#Return a sample (or samples) from the \"standard normal\" distribution."
   ]
  },
  {
   "cell_type": "code",
   "execution_count": 62,
   "id": "21f154c4-627f-44a5-ab72-115605d41a77",
   "metadata": {},
   "outputs": [
    {
     "data": {
      "text/plain": [
       "array([-1.67197482,  1.01044709, -0.92936548,  0.14943222,  2.01374532,\n",
       "       -1.1786555 ,  0.43020008, -0.28851952,  0.34557496, -1.88479485])"
      ]
     },
     "execution_count": 62,
     "metadata": {},
     "output_type": "execute_result"
    }
   ],
   "source": [
    "np.random.randn(10)"
   ]
  },
  {
   "cell_type": "code",
   "execution_count": 63,
   "id": "6c4a5d8b-f852-4e3a-9b4d-312ee86fe156",
   "metadata": {},
   "outputs": [
    {
     "data": {
      "text/plain": [
       "array([[ 0.21744037,  0.07896598, -0.40756499,  0.74036289, -0.57225524,\n",
       "        -0.03296039],\n",
       "       [-0.76707938, -1.50238662, -0.47260232,  1.06601731,  0.64686738,\n",
       "        -1.66473429],\n",
       "       [ 0.57173482,  3.33406584,  1.07234803,  0.38326126, -1.77497534,\n",
       "        -0.46991129]])"
      ]
     },
     "execution_count": 63,
     "metadata": {},
     "output_type": "execute_result"
    }
   ],
   "source": [
    "np.random.randn(3,6)"
   ]
  },
  {
   "cell_type": "code",
   "execution_count": 64,
   "id": "6a883474-a036-4fe7-824a-0050c9f79707",
   "metadata": {},
   "outputs": [],
   "source": [
    "#3.np.random.randint (low,high,(no.of rows&columns))\n",
    "#Reutrn only integers "
   ]
  },
  {
   "cell_type": "code",
   "execution_count": 67,
   "id": "27053f58-1d67-4585-a728-a655b0e6cc06",
   "metadata": {},
   "outputs": [
    {
     "data": {
      "text/plain": [
       "array([3, 3, 3, 3, 3])"
      ]
     },
     "execution_count": 67,
     "metadata": {},
     "output_type": "execute_result"
    }
   ],
   "source": [
    "np.random.randint(3,4,5)"
   ]
  },
  {
   "cell_type": "code",
   "execution_count": 69,
   "id": "25640b45-98e1-4f9d-95d1-ce91b7a35995",
   "metadata": {},
   "outputs": [
    {
     "data": {
      "text/plain": [
       "array([[30, 25,  6, 33],\n",
       "       [13, 22,  1, 39],\n",
       "       [42,  6,  0,  5]])"
      ]
     },
     "execution_count": 69,
     "metadata": {},
     "output_type": "execute_result"
    }
   ],
   "source": [
    "np.random.randint(0,45,(3,4))"
   ]
  },
  {
   "cell_type": "code",
   "execution_count": 70,
   "id": "e5b110e8-cae5-4963-addf-de6f40ec6902",
   "metadata": {},
   "outputs": [
    {
     "data": {
      "text/plain": [
       "array([31, 24, 30, 39, 30, 25, 29, 25, 42, 31])"
      ]
     },
     "execution_count": 70,
     "metadata": {},
     "output_type": "execute_result"
    }
   ],
   "source": [
    "np.random.randint(23,45,10)"
   ]
  },
  {
   "cell_type": "code",
   "execution_count": 71,
   "id": "138399be-76e2-4d2e-b110-ff1fdcc4a0ef",
   "metadata": {},
   "outputs": [],
   "source": [
    "#4.np.random.seed \n",
    "# allow use to set a perticula sets of random numbers \n",
    "#if  we set seed for then it give random value "
   ]
  },
  {
   "cell_type": "code",
   "execution_count": 72,
   "id": "eaab2d8c-199f-46a7-8c1e-4cfa6c5fb221",
   "metadata": {},
   "outputs": [
    {
     "data": {
      "text/plain": [
       "array([0.98901151, 0.54954473, 0.2814473 , 0.07728957, 0.4444695 ,\n",
       "       0.47280797])"
      ]
     },
     "execution_count": 72,
     "metadata": {},
     "output_type": "execute_result"
    }
   ],
   "source": [
    "np.random.seed(45)\n",
    "np.random.rand(6)"
   ]
  },
  {
   "cell_type": "code",
   "execution_count": 73,
   "id": "f40eeafe-906e-49d4-b556-cd3d5376faaa",
   "metadata": {},
   "outputs": [
    {
     "data": {
      "text/plain": [
       "array([0.98901151, 0.54954473, 0.2814473 , 0.07728957, 0.4444695 ,\n",
       "       0.47280797])"
      ]
     },
     "execution_count": 73,
     "metadata": {},
     "output_type": "execute_result"
    }
   ],
   "source": [
    "np.random.seed(45)\n",
    "np.random.rand(6)"
   ]
  },
  {
   "cell_type": "code",
   "execution_count": 74,
   "id": "72b008b8-d306-4788-8720-b588d72a7a93",
   "metadata": {},
   "outputs": [
    {
     "data": {
      "text/plain": [
       "array([0.98901151, 0.54954473, 0.2814473 ])"
      ]
     },
     "execution_count": 74,
     "metadata": {},
     "output_type": "execute_result"
    }
   ],
   "source": [
    "np.random.seed(45)\n",
    "np.random.rand(3)"
   ]
  },
  {
   "cell_type": "code",
   "execution_count": null,
   "id": "795acc3a-3073-4bf4-9276-113c6ba0819d",
   "metadata": {},
   "outputs": [],
   "source": []
  },
  {
   "cell_type": "code",
   "execution_count": 75,
   "id": "f80ce22d-9a40-4d46-9726-5c6c4836c136",
   "metadata": {},
   "outputs": [],
   "source": [
    "ar= np.arange(0,25)"
   ]
  },
  {
   "cell_type": "code",
   "execution_count": 76,
   "id": "884b204c-161e-4cba-a382-7e80682cf1cd",
   "metadata": {},
   "outputs": [
    {
     "data": {
      "text/plain": [
       "array([ 0,  1,  2,  3,  4,  5,  6,  7,  8,  9, 10, 11, 12, 13, 14, 15, 16,\n",
       "       17, 18, 19, 20, 21, 22, 23, 24])"
      ]
     },
     "execution_count": 76,
     "metadata": {},
     "output_type": "execute_result"
    }
   ],
   "source": [
    "ar"
   ]
  },
  {
   "cell_type": "code",
   "execution_count": 77,
   "id": "97e259f5-bb03-4aca-aff2-c1662ccca0c3",
   "metadata": {},
   "outputs": [
    {
     "data": {
      "text/plain": [
       "array([[ 0,  1,  2,  3,  4],\n",
       "       [ 5,  6,  7,  8,  9],\n",
       "       [10, 11, 12, 13, 14],\n",
       "       [15, 16, 17, 18, 19],\n",
       "       [20, 21, 22, 23, 24]])"
      ]
     },
     "execution_count": 77,
     "metadata": {},
     "output_type": "execute_result"
    }
   ],
   "source": [
    "ar.reshape(5,5)"
   ]
  },
  {
   "cell_type": "code",
   "execution_count": 78,
   "id": "85ebbeb6-3d75-427c-bd6b-5d3bf2838af2",
   "metadata": {},
   "outputs": [],
   "source": [
    "# here multiple of  no.of rows and column is equal to no. of orginal arr"
   ]
  },
  {
   "cell_type": "code",
   "execution_count": 80,
   "id": "1c10d039-7773-4139-bac5-79774b51e29c",
   "metadata": {},
   "outputs": [
    {
     "ename": "ValueError",
     "evalue": "cannot reshape array of size 25 into shape (5,3)",
     "output_type": "error",
     "traceback": [
      "\u001b[1;31m---------------------------------------------------------------------------\u001b[0m",
      "\u001b[1;31mValueError\u001b[0m                                Traceback (most recent call last)",
      "Cell \u001b[1;32mIn[80], line 1\u001b[0m\n\u001b[1;32m----> 1\u001b[0m \u001b[43mar\u001b[49m\u001b[38;5;241;43m.\u001b[39;49m\u001b[43mreshape\u001b[49m\u001b[43m(\u001b[49m\u001b[38;5;241;43m5\u001b[39;49m\u001b[43m,\u001b[49m\u001b[38;5;241;43m3\u001b[39;49m\u001b[43m)\u001b[49m\n",
      "\u001b[1;31mValueError\u001b[0m: cannot reshape array of size 25 into shape (5,3)"
     ]
    }
   ],
   "source": [
    "ar.reshape(5,3)"
   ]
  },
  {
   "cell_type": "code",
   "execution_count": null,
   "id": "663fef0c-89ec-448f-a1de-6261ddee5550",
   "metadata": {},
   "outputs": [],
   "source": []
  },
  {
   "cell_type": "code",
   "execution_count": 81,
   "id": "c59327b4-833b-4c21-9a5f-1494b618a125",
   "metadata": {},
   "outputs": [],
   "source": [
    "ranarr = np.random.randint(0,101,10) # creating a random array"
   ]
  },
  {
   "cell_type": "code",
   "execution_count": 82,
   "id": "a7ec1933-3cdc-4d0c-874f-5eafba59c4fb",
   "metadata": {},
   "outputs": [
    {
     "data": {
      "text/plain": [
       "array([61, 85, 35, 68, 15, 65, 14, 53, 57, 72])"
      ]
     },
     "execution_count": 82,
     "metadata": {},
     "output_type": "execute_result"
    }
   ],
   "source": [
    "ranarr"
   ]
  },
  {
   "cell_type": "code",
   "execution_count": 83,
   "id": "bafa6259-6712-4e15-b0fe-4dccbb734417",
   "metadata": {},
   "outputs": [
    {
     "data": {
      "text/plain": [
       "85"
      ]
     },
     "execution_count": 83,
     "metadata": {},
     "output_type": "execute_result"
    }
   ],
   "source": [
    "ranarr.max() # find max element in array"
   ]
  },
  {
   "cell_type": "code",
   "execution_count": 84,
   "id": "a1428d5f-852a-420e-af3e-0a3bf2e6e5d6",
   "metadata": {},
   "outputs": [
    {
     "data": {
      "text/plain": [
       "14"
      ]
     },
     "execution_count": 84,
     "metadata": {},
     "output_type": "execute_result"
    }
   ],
   "source": [
    "ranarr.min()# find min element "
   ]
  },
  {
   "cell_type": "code",
   "execution_count": 87,
   "id": "e1596875-dd38-43bf-aeb8-2770a1efa3f7",
   "metadata": {},
   "outputs": [
    {
     "data": {
      "text/plain": [
       "1"
      ]
     },
     "execution_count": 87,
     "metadata": {},
     "output_type": "execute_result"
    }
   ],
   "source": [
    "ranarr.argmax() # give index of max element"
   ]
  },
  {
   "cell_type": "code",
   "execution_count": 88,
   "id": "3234f596-60b0-4145-ad68-f535e1e7a305",
   "metadata": {},
   "outputs": [
    {
     "data": {
      "text/plain": [
       "6"
      ]
     },
     "execution_count": 88,
     "metadata": {},
     "output_type": "execute_result"
    }
   ],
   "source": [
    "ranarr.argmin()# give index of min element"
   ]
  },
  {
   "cell_type": "code",
   "execution_count": 91,
   "id": "93367add-bfb1-4beb-a052-d589c0877041",
   "metadata": {},
   "outputs": [
    {
     "data": {
      "text/plain": [
       "dtype('int32')"
      ]
     },
     "execution_count": 91,
     "metadata": {},
     "output_type": "execute_result"
    }
   ],
   "source": [
    "ranarr.dtype # data type of array"
   ]
  },
  {
   "cell_type": "code",
   "execution_count": 92,
   "id": "9d0cbccb-5aba-4151-ba34-225ea770d472",
   "metadata": {},
   "outputs": [
    {
     "data": {
      "text/plain": [
       "(10,)"
      ]
     },
     "execution_count": 92,
     "metadata": {},
     "output_type": "execute_result"
    }
   ],
   "source": [
    "ranarr.shape# gives no of rows and column"
   ]
  },
  {
   "cell_type": "code",
   "execution_count": 99,
   "id": "c9e74ad4-0641-484d-954a-17a1737818eb",
   "metadata": {},
   "outputs": [],
   "source": [
    "num=ranarr.reshape(2,5)"
   ]
  },
  {
   "cell_type": "code",
   "execution_count": 101,
   "id": "861c8ccc-3169-498d-b2a5-1e8c79408607",
   "metadata": {},
   "outputs": [
    {
     "data": {
      "text/plain": [
       "(2, 5)"
      ]
     },
     "execution_count": 101,
     "metadata": {},
     "output_type": "execute_result"
    }
   ],
   "source": [
    "num.shape"
   ]
  },
  {
   "cell_type": "code",
   "execution_count": null,
   "id": "178dbb44-a029-47d0-8667-d3f9558a332c",
   "metadata": {},
   "outputs": [],
   "source": []
  }
 ],
 "metadata": {
  "kernelspec": {
   "display_name": "Python 3 (ipykernel)",
   "language": "python",
   "name": "python3"
  },
  "language_info": {
   "codemirror_mode": {
    "name": "ipython",
    "version": 3
   },
   "file_extension": ".py",
   "mimetype": "text/x-python",
   "name": "python",
   "nbconvert_exporter": "python",
   "pygments_lexer": "ipython3",
   "version": "3.12.3"
  }
 },
 "nbformat": 4,
 "nbformat_minor": 5
}
