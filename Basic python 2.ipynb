{
 "cells": [
  {
   "cell_type": "code",
   "execution_count": 1,
   "id": "b58b4377-a1eb-4216-805a-7daa78f8ff5a",
   "metadata": {},
   "outputs": [],
   "source": [
    "# operators"
   ]
  },
  {
   "cell_type": "code",
   "execution_count": 2,
   "id": "a651280c-4955-4204-a493-d11058b55ba6",
   "metadata": {},
   "outputs": [],
   "source": [
    "#comparison operator\n",
    "# return true or false"
   ]
  },
  {
   "cell_type": "code",
   "execution_count": 3,
   "id": "7426001c-822a-4279-a040-ca233faa1379",
   "metadata": {},
   "outputs": [
    {
     "data": {
      "text/plain": [
       "False"
      ]
     },
     "execution_count": 3,
     "metadata": {},
     "output_type": "execute_result"
    }
   ],
   "source": [
    "1>=4"
   ]
  },
  {
   "cell_type": "code",
   "execution_count": 4,
   "id": "7d36fa80-af31-4f50-a040-a8558471ea19",
   "metadata": {},
   "outputs": [
    {
     "data": {
      "text/plain": [
       "True"
      ]
     },
     "execution_count": 4,
     "metadata": {},
     "output_type": "execute_result"
    }
   ],
   "source": [
    "1<=3"
   ]
  },
  {
   "cell_type": "code",
   "execution_count": 5,
   "id": "b4fe8de3-d61a-4ad9-b646-03f30accc334",
   "metadata": {},
   "outputs": [
    {
     "data": {
      "text/plain": [
       "True"
      ]
     },
     "execution_count": 5,
     "metadata": {},
     "output_type": "execute_result"
    }
   ],
   "source": [
    "\"a\"== \"a\""
   ]
  },
  {
   "cell_type": "code",
   "execution_count": 6,
   "id": "3aae09d6-a9df-4b4c-a094-430f0a403067",
   "metadata": {},
   "outputs": [
    {
     "data": {
      "text/plain": [
       "False"
      ]
     },
     "execution_count": 6,
     "metadata": {},
     "output_type": "execute_result"
    }
   ],
   "source": [
    "\"a\" == \"A\"\n",
    "# case sesnsitve "
   ]
  },
  {
   "cell_type": "code",
   "execution_count": 7,
   "id": "d5268d1f-669e-4b02-8adc-11e978ec2193",
   "metadata": {},
   "outputs": [
    {
     "data": {
      "text/plain": [
       "True"
      ]
     },
     "execution_count": 7,
     "metadata": {},
     "output_type": "execute_result"
    }
   ],
   "source": [
    "1!=2"
   ]
  },
  {
   "cell_type": "code",
   "execution_count": 8,
   "id": "2972eea8-b02b-477c-80d9-932de8d853e3",
   "metadata": {},
   "outputs": [],
   "source": [
    "#Logic operator \n",
    "# allow to check multipel condition"
   ]
  },
  {
   "cell_type": "code",
   "execution_count": 12,
   "id": "9cb7f272-8449-435e-85b6-ae7e1478a642",
   "metadata": {},
   "outputs": [
    {
     "data": {
      "text/plain": [
       "False"
      ]
     },
     "execution_count": 12,
     "metadata": {},
     "output_type": "execute_result"
    }
   ],
   "source": [
    "(1==2) and (\"a\"==\"a\") and (3 ==3)"
   ]
  },
  {
   "cell_type": "code",
   "execution_count": 13,
   "id": "e6660570-f9d1-4d75-a37c-ff3c5aa26353",
   "metadata": {},
   "outputs": [
    {
     "data": {
      "text/plain": [
       "True"
      ]
     },
     "execution_count": 13,
     "metadata": {},
     "output_type": "execute_result"
    }
   ],
   "source": [
    "(1==2)  or (\"a\"==\"a\")"
   ]
  },
  {
   "cell_type": "code",
   "execution_count": 14,
   "id": "8f8ae86c-350f-45a7-920b-3c24f1ee139d",
   "metadata": {},
   "outputs": [
    {
     "name": "stdout",
     "output_type": "stream",
     "text": [
      "hello\n"
     ]
    }
   ],
   "source": [
    "if 1==1:\n",
    "    print(\"hello\")"
   ]
  },
  {
   "cell_type": "code",
   "execution_count": 19,
   "id": "8b7b9b8a-bf97-41cc-9d2f-a07c24af4848",
   "metadata": {},
   "outputs": [],
   "source": [
    "#LOOPS\n",
    "#if \n",
    "if 1==2:\n",
    "    print(\"hello\")"
   ]
  },
  {
   "cell_type": "code",
   "execution_count": 16,
   "id": "e76dc806-f527-4a36-8ac9-f17a0b9ad291",
   "metadata": {},
   "outputs": [],
   "source": [
    "# if & else\n",
    "if 1==2:\n",
    "    print(\"work\")\n",
    "else:\n",
    "    print(\"nope\")"
   ]
  },
  {
   "cell_type": "code",
   "execution_count": 17,
   "id": "4993306a-f2f1-48e3-bac9-52eb416c9ab5",
   "metadata": {},
   "outputs": [
    {
     "name": "stdout",
     "output_type": "stream",
     "text": [
      "ah\n"
     ]
    }
   ],
   "source": [
    "# if eliff\n",
    "if 1==2:\n",
    "    print(\"work\")\n",
    "elif 3==3:\n",
    "    print(\"ah\")\n",
    "else:\n",
    "    print(\"nope\")"
   ]
  },
  {
   "cell_type": "code",
   "execution_count": null,
   "id": "d8c65db9-7232-451f-9b4f-ecf3f822e6ec",
   "metadata": {},
   "outputs": [],
   "source": [
    "# FOR LOOPS "
   ]
  },
  {
   "cell_type": "code",
   "execution_count": 20,
   "id": "d502f256-4668-4a45-aa3d-6f881870970a",
   "metadata": {},
   "outputs": [],
   "source": [
    "seq =[1,2,3,4,5,6,]"
   ]
  },
  {
   "cell_type": "code",
   "execution_count": 24,
   "id": "f63dbd1d-a71c-42bd-a01c-7588a9d4afda",
   "metadata": {},
   "outputs": [
    {
     "name": "stdout",
     "output_type": "stream",
     "text": [
      "1\n",
      "2\n",
      "3\n",
      "4\n",
      "5\n",
      "6\n"
     ]
    }
   ],
   "source": [
    "for item in seq:\n",
    "    print(item)"
   ]
  },
  {
   "cell_type": "code",
   "execution_count": 25,
   "id": "58181722-8d23-4bf6-8901-724f6d6373a4",
   "metadata": {},
   "outputs": [
    {
     "name": "stdout",
     "output_type": "stream",
     "text": [
      "hii\n",
      "hii\n",
      "hii\n",
      "hii\n",
      "hii\n",
      "hii\n"
     ]
    }
   ],
   "source": [
    "for item in seq:\n",
    "    print(\"hii\")"
   ]
  },
  {
   "cell_type": "code",
   "execution_count": 26,
   "id": "244d2017-5848-4da5-b295-7d673fc93ec5",
   "metadata": {},
   "outputs": [
    {
     "name": "stdout",
     "output_type": "stream",
     "text": [
      "2\n",
      "4\n",
      "6\n",
      "8\n",
      "10\n",
      "12\n"
     ]
    }
   ],
   "source": [
    "for item in seq:\n",
    "    print(item+item)"
   ]
  },
  {
   "cell_type": "code",
   "execution_count": 27,
   "id": "55c56a15-ddb8-4d6f-8421-c0a6245a0c9f",
   "metadata": {},
   "outputs": [],
   "source": [
    "# WHILE loop"
   ]
  },
  {
   "cell_type": "code",
   "execution_count": 28,
   "id": "67fe92f2-cb9d-4b1b-accb-a053d68c0f8d",
   "metadata": {},
   "outputs": [
    {
     "name": "stdout",
     "output_type": "stream",
     "text": [
      "i is 1\n",
      "i is 2\n",
      "i is 3\n",
      "i is 4\n"
     ]
    }
   ],
   "source": [
    "i =1 \n",
    "while i <5 :\n",
    "    print('i is {}'.format(i))\n",
    "    i +=1"
   ]
  },
  {
   "cell_type": "code",
   "execution_count": null,
   "id": "88708d99-daca-4f2b-a4a8-fb3f3aa1a50a",
   "metadata": {},
   "outputs": [],
   "source": []
  },
  {
   "cell_type": "code",
   "execution_count": null,
   "id": "d735231c-7441-4190-afdd-7c783e4e2736",
   "metadata": {},
   "outputs": [],
   "source": []
  },
  {
   "cell_type": "code",
   "execution_count": 29,
   "id": "c766b1ea-fc4f-465e-b94a-2a16dc9f6728",
   "metadata": {},
   "outputs": [],
   "source": [
    "#Range function"
   ]
  },
  {
   "cell_type": "code",
   "execution_count": 35,
   "id": "3f025cbf-00de-430b-ab1a-212435f4ea91",
   "metadata": {},
   "outputs": [
    {
     "data": {
      "text/plain": [
       "range(0, 5)"
      ]
     },
     "execution_count": 35,
     "metadata": {},
     "output_type": "execute_result"
    }
   ],
   "source": [
    "range(0,5)"
   ]
  },
  {
   "cell_type": "code",
   "execution_count": 36,
   "id": "2ed6a499-8e93-4edd-9baa-1dbfc221a4e4",
   "metadata": {},
   "outputs": [],
   "source": [
    "## list(range(0,5))"
   ]
  },
  {
   "cell_type": "code",
   "execution_count": 38,
   "id": "eff0186d-d15a-4e90-bf21-4cf1b12e4fd4",
   "metadata": {},
   "outputs": [
    {
     "data": {
      "text/plain": [
       "[2, 3, 4]"
      ]
     },
     "execution_count": 38,
     "metadata": {},
     "output_type": "execute_result"
    }
   ],
   "source": [
    "list(range(2,5))"
   ]
  },
  {
   "cell_type": "code",
   "execution_count": 40,
   "id": "fb79dd0e-66bf-4e10-aa1a-42027cef931e",
   "metadata": {},
   "outputs": [
    {
     "name": "stdout",
     "output_type": "stream",
     "text": [
      "0\n",
      "1\n",
      "2\n",
      "3\n",
      "4\n"
     ]
    }
   ],
   "source": [
    "for x in range (5):\n",
    "    print(x)"
   ]
  },
  {
   "cell_type": "code",
   "execution_count": 44,
   "id": "47380784-935f-4151-8499-66fd419de019",
   "metadata": {},
   "outputs": [],
   "source": [
    "# LIST COMPRINSION"
   ]
  },
  {
   "cell_type": "code",
   "execution_count": 46,
   "id": "4bcc5694-7a20-4ff1-a699-b7617c83f244",
   "metadata": {},
   "outputs": [],
   "source": [
    "x  =[1,2,3,4,5]"
   ]
  },
  {
   "cell_type": "code",
   "execution_count": 47,
   "id": "2ddc19a6-9b00-4b5c-8dc2-c5b0b64d1d4b",
   "metadata": {},
   "outputs": [
    {
     "name": "stdout",
     "output_type": "stream",
     "text": [
      "[1, 4, 9, 16, 25]\n"
     ]
    }
   ],
   "source": [
    "out = []\n",
    "for num in x:\n",
    "    out.append(num**2)\n",
    "print(out)"
   ]
  },
  {
   "cell_type": "code",
   "execution_count": 48,
   "id": "12e2dd76-a687-493b-86a1-a842bd1486cc",
   "metadata": {},
   "outputs": [
    {
     "data": {
      "text/plain": [
       "[1, 4, 9, 16, 25]"
      ]
     },
     "execution_count": 48,
     "metadata": {},
     "output_type": "execute_result"
    }
   ],
   "source": [
    "out"
   ]
  },
  {
   "cell_type": "code",
   "execution_count": 49,
   "id": "2efe2af0-e948-4a8a-a6d9-874b51d6dcca",
   "metadata": {},
   "outputs": [
    {
     "data": {
      "text/plain": [
       "[1, 4, 9, 16, 25]"
      ]
     },
     "execution_count": 49,
     "metadata": {},
     "output_type": "execute_result"
    }
   ],
   "source": [
    "[num**2 for num in x] # another way to writing out the for loop  know as list comprehension"
   ]
  },
  {
   "cell_type": "code",
   "execution_count": null,
   "id": "75df0c5c-b1f1-4d9f-8115-3a096c6c448a",
   "metadata": {},
   "outputs": [],
   "source": []
  }
 ],
 "metadata": {
  "kernelspec": {
   "display_name": "Python 3 (ipykernel)",
   "language": "python",
   "name": "python3"
  },
  "language_info": {
   "codemirror_mode": {
    "name": "ipython",
    "version": 3
   },
   "file_extension": ".py",
   "mimetype": "text/x-python",
   "name": "python",
   "nbconvert_exporter": "python",
   "pygments_lexer": "ipython3",
   "version": "3.12.3"
  }
 },
 "nbformat": 4,
 "nbformat_minor": 5
}
