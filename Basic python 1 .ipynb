{
 "cells": [
  {
   "cell_type": "code",
   "execution_count": 1,
   "id": "697e5972-e75d-4238-ab2e-7e051a0f8c9d",
   "metadata": {},
   "outputs": [
    {
     "data": {
      "text/plain": [
       "1"
      ]
     },
     "execution_count": 1,
     "metadata": {},
     "output_type": "execute_result"
    }
   ],
   "source": [
    "1"
   ]
  },
  {
   "cell_type": "code",
   "execution_count": 2,
   "id": "d3abd180-5d01-4e11-8cad-be8268de427d",
   "metadata": {},
   "outputs": [
    {
     "data": {
      "text/plain": [
       "1.0"
      ]
     },
     "execution_count": 2,
     "metadata": {},
     "output_type": "execute_result"
    }
   ],
   "source": [
    "1.0"
   ]
  },
  {
   "cell_type": "code",
   "execution_count": 3,
   "id": "76191911-a2d3-408f-b6d6-a973d33020e3",
   "metadata": {},
   "outputs": [
    {
     "data": {
      "text/plain": [
       "float"
      ]
     },
     "execution_count": 3,
     "metadata": {},
     "output_type": "execute_result"
    }
   ],
   "source": [
    "type(1)\n",
    "type(1.0)"
   ]
  },
  {
   "cell_type": "code",
   "execution_count": 4,
   "id": "651d89a5-39f8-4169-8a29-bdcaa5dffdf6",
   "metadata": {},
   "outputs": [
    {
     "data": {
      "text/plain": [
       "2"
      ]
     },
     "execution_count": 4,
     "metadata": {},
     "output_type": "execute_result"
    }
   ],
   "source": [
    "1+1"
   ]
  },
  {
   "cell_type": "code",
   "execution_count": 6,
   "id": "449bf906-9b60-4d35-8cba-85a00cf7e723",
   "metadata": {},
   "outputs": [
    {
     "data": {
      "text/plain": [
       "3"
      ]
     },
     "execution_count": 6,
     "metadata": {},
     "output_type": "execute_result"
    }
   ],
   "source": [
    "1*3"
   ]
  },
  {
   "cell_type": "code",
   "execution_count": 7,
   "id": "b43e67c8-f743-49e5-8757-93714b79234b",
   "metadata": {},
   "outputs": [
    {
     "data": {
      "text/plain": [
       "0.5"
      ]
     },
     "execution_count": 7,
     "metadata": {},
     "output_type": "execute_result"
    }
   ],
   "source": [
    "1/2"
   ]
  },
  {
   "cell_type": "code",
   "execution_count": 8,
   "id": "b3b7b306-cfd0-43b7-845a-feac275c2170",
   "metadata": {},
   "outputs": [
    {
     "data": {
      "text/plain": [
       "32"
      ]
     },
     "execution_count": 8,
     "metadata": {},
     "output_type": "execute_result"
    }
   ],
   "source": [
    "2**5"
   ]
  },
  {
   "cell_type": "code",
   "execution_count": 10,
   "id": "797aeca9-88af-4e5e-a85a-13dd9ebc1655",
   "metadata": {},
   "outputs": [
    {
     "data": {
      "text/plain": [
       "0"
      ]
     },
     "execution_count": 10,
     "metadata": {},
     "output_type": "execute_result"
    }
   ],
   "source": [
    "4%2"
   ]
  },
  {
   "cell_type": "code",
   "execution_count": 11,
   "id": "c6d9d447-241d-4c13-b09c-ebb46abc3a9f",
   "metadata": {},
   "outputs": [
    {
     "data": {
      "text/plain": [
       "1"
      ]
     },
     "execution_count": 11,
     "metadata": {},
     "output_type": "execute_result"
    }
   ],
   "source": [
    "5%2"
   ]
  },
  {
   "cell_type": "code",
   "execution_count": 14,
   "id": "22d28f44-100c-4e3e-9071-28846f63867c",
   "metadata": {},
   "outputs": [
    {
     "name": "stdout",
     "output_type": "stream",
     "text": [
      "My name is nityam\n"
     ]
    }
   ],
   "source": [
    "print(\"My name is {}\".format('nityam')) #python interpoleation "
   ]
  },
  {
   "cell_type": "code",
   "execution_count": 18,
   "id": "03039c25-f46e-4ee4-8e62-41ec9e8658d7",
   "metadata": {},
   "outputs": [
    {
     "name": "stdout",
     "output_type": "stream",
     "text": [
      "firsr:me second you \n"
     ]
    }
   ],
   "source": [
    "print(\"firsr:{x} second {y} \".format(x=\"me\",y=\"you\"))"
   ]
  },
  {
   "cell_type": "code",
   "execution_count": 19,
   "id": "389ea744-1844-4d5e-90ae-53fd8d12f54e",
   "metadata": {},
   "outputs": [
    {
     "data": {
      "text/plain": [
       "[1, 2, 3, 4, 5, 6, 6]"
      ]
     },
     "execution_count": 19,
     "metadata": {},
     "output_type": "execute_result"
    }
   ],
   "source": [
    "#list\n",
    "[1,2,3,4,5,6,6]"
   ]
  },
  {
   "cell_type": "code",
   "execution_count": 23,
   "id": "88e8c2c1-9c55-4569-b69c-7121f12aae70",
   "metadata": {},
   "outputs": [],
   "source": [
    "mylist=['a','c','d']"
   ]
  },
  {
   "cell_type": "code",
   "execution_count": 24,
   "id": "9eb16ac7-113b-48f9-846b-9e57431bfba4",
   "metadata": {},
   "outputs": [
    {
     "data": {
      "text/plain": [
       "[1, 'a', 5]"
      ]
     },
     "execution_count": 24,
     "metadata": {},
     "output_type": "execute_result"
    }
   ],
   "source": [
    "[1,'a',5]"
   ]
  },
  {
   "cell_type": "code",
   "execution_count": 25,
   "id": "80a8dbad-3c08-48ea-ac86-d61bbddbf037",
   "metadata": {},
   "outputs": [
    {
     "data": {
      "text/plain": [
       "'a'"
      ]
     },
     "execution_count": 25,
     "metadata": {},
     "output_type": "execute_result"
    }
   ],
   "source": [
    "mylist[0]"
   ]
  },
  {
   "cell_type": "code",
   "execution_count": 26,
   "id": "30511569-0a55-4894-bbe2-0dd27ae16ce1",
   "metadata": {},
   "outputs": [
    {
     "data": {
      "text/plain": [
       "'d'"
      ]
     },
     "execution_count": 26,
     "metadata": {},
     "output_type": "execute_result"
    }
   ],
   "source": [
    "mylist[-1]"
   ]
  },
  {
   "cell_type": "code",
   "execution_count": 27,
   "id": "7b27d7eb-fcb1-4a9b-8613-776423e4d9dc",
   "metadata": {},
   "outputs": [],
   "source": [
    "mylist[0]=\"new\""
   ]
  },
  {
   "cell_type": "code",
   "execution_count": 28,
   "id": "7929f06c-d8cd-4a3b-bc3c-134597be7ce2",
   "metadata": {},
   "outputs": [
    {
     "data": {
      "text/plain": [
       "['new', 'c', 'd']"
      ]
     },
     "execution_count": 28,
     "metadata": {},
     "output_type": "execute_result"
    }
   ],
   "source": [
    "mylist"
   ]
  },
  {
   "cell_type": "code",
   "execution_count": 29,
   "id": "d81c9a56-f132-446f-ac8d-61fb60ffdf03",
   "metadata": {},
   "outputs": [],
   "source": [
    "#it means the list is mutabel in python"
   ]
  },
  {
   "cell_type": "code",
   "execution_count": 30,
   "id": "200de9ae-04a8-4053-a141-33ba79a1012b",
   "metadata": {},
   "outputs": [],
   "source": [
    "mylit = [1,2,3,[100,344]]"
   ]
  },
  {
   "cell_type": "code",
   "execution_count": 31,
   "id": "37cab0c0-025e-45a4-9194-935bbf44625a",
   "metadata": {},
   "outputs": [
    {
     "data": {
      "text/plain": [
       "[1, 2, 3, [100, 344]]"
      ]
     },
     "execution_count": 31,
     "metadata": {},
     "output_type": "execute_result"
    }
   ],
   "source": [
    "mylit"
   ]
  },
  {
   "cell_type": "code",
   "execution_count": 32,
   "id": "57a121bb-24f4-45b4-9cfa-7dc83e4c3765",
   "metadata": {},
   "outputs": [
    {
     "data": {
      "text/plain": [
       "'d'"
      ]
     },
     "execution_count": 32,
     "metadata": {},
     "output_type": "execute_result"
    }
   ],
   "source": [
    "mylist[2]"
   ]
  },
  {
   "cell_type": "code",
   "execution_count": 33,
   "id": "f6702d07-5db5-4b6f-8a2a-37577ec8c40d",
   "metadata": {},
   "outputs": [
    {
     "data": {
      "text/plain": [
       "[100, 344]"
      ]
     },
     "execution_count": 33,
     "metadata": {},
     "output_type": "execute_result"
    }
   ],
   "source": [
    "mylit[3]"
   ]
  },
  {
   "cell_type": "code",
   "execution_count": 36,
   "id": "30c1a9d5-fb02-4247-85b7-25646b42ea9e",
   "metadata": {},
   "outputs": [
    {
     "data": {
      "text/plain": [
       "344"
      ]
     },
     "execution_count": 36,
     "metadata": {},
     "output_type": "execute_result"
    }
   ],
   "source": [
    "mylit[3][1]"
   ]
  },
  {
   "cell_type": "code",
   "execution_count": 38,
   "id": "7b3c60cf-09a3-4ef6-9b79-49cb44d55c87",
   "metadata": {},
   "outputs": [],
   "source": [
    "#dectionies\n",
    "d ={\"k1\":34,\"k2\":23}"
   ]
  },
  {
   "cell_type": "code",
   "execution_count": 41,
   "id": "adedc4ca-4103-44c1-a676-b1f17f5abae9",
   "metadata": {},
   "outputs": [
    {
     "data": {
      "text/plain": [
       "34"
      ]
     },
     "execution_count": 41,
     "metadata": {},
     "output_type": "execute_result"
    }
   ],
   "source": [
    "d[\"k1\"]"
   ]
  },
  {
   "cell_type": "code",
   "execution_count": 42,
   "id": "0134afb5-7078-43f8-88fe-e91e7dcaeb15",
   "metadata": {},
   "outputs": [
    {
     "name": "stdout",
     "output_type": "stream",
     "text": [
      "{'k1': 34, 'k2': 23}\n"
     ]
    }
   ],
   "source": [
    "print(d)"
   ]
  },
  {
   "cell_type": "code",
   "execution_count": 43,
   "id": "7f4ffdd4-7ecb-4a86-bf6a-9dc3c320a4e2",
   "metadata": {},
   "outputs": [],
   "source": [
    "#dictoiry can not reatain any squence"
   ]
  },
  {
   "cell_type": "code",
   "execution_count": 44,
   "id": "d9a1a4c7-25b4-46df-90e8-37c3de0211a9",
   "metadata": {},
   "outputs": [],
   "source": [
    "#boolen"
   ]
  },
  {
   "cell_type": "code",
   "execution_count": 45,
   "id": "2bf61ff1-2072-4ddf-8acc-03f7b2f8f564",
   "metadata": {},
   "outputs": [
    {
     "data": {
      "text/plain": [
       "True"
      ]
     },
     "execution_count": 45,
     "metadata": {},
     "output_type": "execute_result"
    }
   ],
   "source": [
    "True"
   ]
  },
  {
   "cell_type": "code",
   "execution_count": 46,
   "id": "0b380a4d-0dfe-474f-b353-f5f8d0707409",
   "metadata": {},
   "outputs": [
    {
     "data": {
      "text/plain": [
       "False"
      ]
     },
     "execution_count": 46,
     "metadata": {},
     "output_type": "execute_result"
    }
   ],
   "source": [
    "False"
   ]
  },
  {
   "cell_type": "code",
   "execution_count": 47,
   "id": "f4f6fbbb-5984-421a-b64a-9e39e7cda4ee",
   "metadata": {},
   "outputs": [],
   "source": [
    "#tuples\n",
    "#tuples are like list but it is immutabel and defined by()"
   ]
  },
  {
   "cell_type": "code",
   "execution_count": 48,
   "id": "7f520eb2-4bde-45ae-8351-03c9e0c72383",
   "metadata": {},
   "outputs": [],
   "source": [
    "t =(1,2,4)"
   ]
  },
  {
   "cell_type": "code",
   "execution_count": 49,
   "id": "c76e58cf-3d8c-4c5d-8b57-470e830215a5",
   "metadata": {},
   "outputs": [
    {
     "data": {
      "text/plain": [
       "(1, 2, 4)"
      ]
     },
     "execution_count": 49,
     "metadata": {},
     "output_type": "execute_result"
    }
   ],
   "source": [
    "t"
   ]
  },
  {
   "cell_type": "code",
   "execution_count": 50,
   "id": "8e418212-9636-4b35-9f8c-d716f8f9d725",
   "metadata": {},
   "outputs": [
    {
     "data": {
      "text/plain": [
       "1"
      ]
     },
     "execution_count": 50,
     "metadata": {},
     "output_type": "execute_result"
    }
   ],
   "source": [
    "t[0]"
   ]
  },
  {
   "cell_type": "code",
   "execution_count": 51,
   "id": "812222c9-c756-44c1-abfa-f5fef4918bb7",
   "metadata": {},
   "outputs": [
    {
     "ename": "TypeError",
     "evalue": "'tuple' object does not support item assignment",
     "output_type": "error",
     "traceback": [
      "\u001b[1;31m---------------------------------------------------------------------------\u001b[0m",
      "\u001b[1;31mTypeError\u001b[0m                                 Traceback (most recent call last)",
      "Cell \u001b[1;32mIn[51], line 1\u001b[0m\n\u001b[1;32m----> 1\u001b[0m \u001b[43mt\u001b[49m\u001b[43m[\u001b[49m\u001b[38;5;241;43m0\u001b[39;49m\u001b[43m]\u001b[49m\u001b[38;5;241m=\u001b[39m\u001b[38;5;241m34\u001b[39m\n",
      "\u001b[1;31mTypeError\u001b[0m: 'tuple' object does not support item assignment"
     ]
    }
   ],
   "source": [
    "t[0]=34"
   ]
  },
  {
   "cell_type": "code",
   "execution_count": 52,
   "id": "81f00479-81a0-43e3-b5bd-a32ed3a8afdf",
   "metadata": {},
   "outputs": [],
   "source": [
    "#set it is list with all unique elements in it"
   ]
  },
  {
   "cell_type": "code",
   "execution_count": null,
   "id": "de6452d1-ef8b-4ad3-87a0-86d48c74f8e1",
   "metadata": {},
   "outputs": [],
   "source": []
  }
 ],
 "metadata": {
  "kernelspec": {
   "display_name": "Python 3 (ipykernel)",
   "language": "python",
   "name": "python3"
  },
  "language_info": {
   "codemirror_mode": {
    "name": "ipython",
    "version": 3
   },
   "file_extension": ".py",
   "mimetype": "text/x-python",
   "name": "python",
   "nbconvert_exporter": "python",
   "pygments_lexer": "ipython3",
   "version": "3.12.3"
  }
 },
 "nbformat": 4,
 "nbformat_minor": 5
}
