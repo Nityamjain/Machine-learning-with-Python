{
 "cells": [
  {
   "cell_type": "code",
   "execution_count": 1,
   "id": "c873b36b-435d-4e25-a77b-1f17220e937d",
   "metadata": {},
   "outputs": [],
   "source": [
    "# function"
   ]
  },
  {
   "cell_type": "code",
   "execution_count": 2,
   "id": "8b94e478-9379-4ff1-9d57-d084b5a6e917",
   "metadata": {},
   "outputs": [],
   "source": [
    "def my_func():\n",
    "    print(\"hello\")"
   ]
  },
  {
   "cell_type": "code",
   "execution_count": 3,
   "id": "89b6ad34-c8dc-48cf-83f5-0be16a9e2de9",
   "metadata": {},
   "outputs": [
    {
     "name": "stdout",
     "output_type": "stream",
     "text": [
      "hello\n"
     ]
    }
   ],
   "source": [
    "my_func() "
   ]
  },
  {
   "cell_type": "code",
   "execution_count": 4,
   "id": "5376c20c-3475-4544-b199-ef0cdc4c4328",
   "metadata": {},
   "outputs": [
    {
     "data": {
      "text/plain": [
       "<function __main__.my_func()>"
      ]
     },
     "execution_count": 4,
     "metadata": {},
     "output_type": "execute_result"
    }
   ],
   "source": [
    "my_func"
   ]
  },
  {
   "cell_type": "code",
   "execution_count": 7,
   "id": "d80ddf60-8288-43a8-853c-64ec7d30b1a3",
   "metadata": {},
   "outputs": [],
   "source": [
    "def func(name):\n",
    "    print(\"hello \" + name)"
   ]
  },
  {
   "cell_type": "code",
   "execution_count": 8,
   "id": "9f189c99-96f5-47d1-ba0e-42d5df613998",
   "metadata": {},
   "outputs": [
    {
     "name": "stdout",
     "output_type": "stream",
     "text": [
      "hello nityam\n"
     ]
    }
   ],
   "source": [
    "func(\"nityam\")"
   ]
  },
  {
   "cell_type": "code",
   "execution_count": 9,
   "id": "f4f6cc0c-46a9-41a9-8775-1f7051281d91",
   "metadata": {},
   "outputs": [
    {
     "ename": "TypeError",
     "evalue": "func() missing 1 required positional argument: 'name'",
     "output_type": "error",
     "traceback": [
      "\u001b[1;31m---------------------------------------------------------------------------\u001b[0m",
      "\u001b[1;31mTypeError\u001b[0m                                 Traceback (most recent call last)",
      "Cell \u001b[1;32mIn[9], line 1\u001b[0m\n\u001b[1;32m----> 1\u001b[0m \u001b[43mfunc\u001b[49m\u001b[43m(\u001b[49m\u001b[43m)\u001b[49m\n",
      "\u001b[1;31mTypeError\u001b[0m: func() missing 1 required positional argument: 'name'"
     ]
    }
   ],
   "source": [
    "func()"
   ]
  },
  {
   "cell_type": "code",
   "execution_count": 10,
   "id": "6337a706-a3d7-4419-8cf3-a14cab8b43de",
   "metadata": {},
   "outputs": [],
   "source": [
    "def func(name = \"nityam \"):\n",
    "    print(\"hello \" + name)"
   ]
  },
  {
   "cell_type": "code",
   "execution_count": 11,
   "id": "6cd21a2a-2c38-4890-93db-3dd63fdfbe6a",
   "metadata": {},
   "outputs": [
    {
     "name": "stdout",
     "output_type": "stream",
     "text": [
      "hello nityam \n"
     ]
    }
   ],
   "source": [
    "func()"
   ]
  },
  {
   "cell_type": "code",
   "execution_count": 12,
   "id": "202e8d14-b082-4086-acb5-7de15f9f9b02",
   "metadata": {},
   "outputs": [
    {
     "name": "stdout",
     "output_type": "stream",
     "text": [
      "hello Priyaksh\n"
     ]
    }
   ],
   "source": [
    "func(\"Priyaksh\")"
   ]
  },
  {
   "cell_type": "code",
   "execution_count": 15,
   "id": "a2825865-2067-4d38-8d8c-36de3dbd7e3d",
   "metadata": {},
   "outputs": [],
   "source": [
    "def square(x):\n",
    "    return x**2"
   ]
  },
  {
   "cell_type": "code",
   "execution_count": 16,
   "id": "b3a8ac25-9f10-4ba1-83ec-60fa73fc131b",
   "metadata": {},
   "outputs": [],
   "source": [
    "result = square(2)"
   ]
  },
  {
   "cell_type": "code",
   "execution_count": 17,
   "id": "ab3ad807-2d87-4990-9344-66c032fe6244",
   "metadata": {},
   "outputs": [
    {
     "data": {
      "text/plain": [
       "4"
      ]
     },
     "execution_count": 17,
     "metadata": {},
     "output_type": "execute_result"
    }
   ],
   "source": [
    "result"
   ]
  },
  {
   "cell_type": "code",
   "execution_count": 18,
   "id": "c5ff20fc-28c7-4eda-9eb7-8ba95719aa50",
   "metadata": {},
   "outputs": [],
   "source": [
    "#print just display the actual value \n",
    "# return allow use to save the value "
   ]
  },
  {
   "cell_type": "code",
   "execution_count": 19,
   "id": "00518e05-4784-4431-94b8-7e360257c80c",
   "metadata": {},
   "outputs": [],
   "source": [
    "def square(x):\n",
    "    print(x**2)"
   ]
  },
  {
   "cell_type": "code",
   "execution_count": 20,
   "id": "17e8ad6a-851c-44a2-b098-41562391d251",
   "metadata": {},
   "outputs": [
    {
     "name": "stdout",
     "output_type": "stream",
     "text": [
      "4\n"
     ]
    }
   ],
   "source": [
    "result = square(2)"
   ]
  },
  {
   "cell_type": "code",
   "execution_count": 21,
   "id": "ee119cc2-1a22-4646-8264-2e9ced90767d",
   "metadata": {},
   "outputs": [],
   "source": [
    "result"
   ]
  },
  {
   "cell_type": "code",
   "execution_count": 22,
   "id": "f61c3770-72e1-4489-8b87-d183a7f7997d",
   "metadata": {},
   "outputs": [
    {
     "data": {
      "text/plain": [
       "NoneType"
      ]
     },
     "execution_count": 22,
     "metadata": {},
     "output_type": "execute_result"
    }
   ],
   "source": [
    "type(result)"
   ]
  },
  {
   "cell_type": "code",
   "execution_count": 23,
   "id": "d2ba8f23-0ae9-42b8-a702-eaf2629a9132",
   "metadata": {},
   "outputs": [],
   "source": [
    "#lambda expression"
   ]
  },
  {
   "cell_type": "code",
   "execution_count": 24,
   "id": "419749b2-c572-4e02-9cc1-62f756ed4e36",
   "metadata": {},
   "outputs": [],
   "source": [
    "def times_two(var):\n",
    "    return var*2\n"
   ]
  },
  {
   "cell_type": "code",
   "execution_count": 25,
   "id": "c69b1d27-231b-4630-86a3-c033b834480d",
   "metadata": {},
   "outputs": [
    {
     "data": {
      "text/plain": [
       "4"
      ]
     },
     "execution_count": 25,
     "metadata": {},
     "output_type": "execute_result"
    }
   ],
   "source": [
    "times_two(2)"
   ]
  },
  {
   "cell_type": "code",
   "execution_count": 26,
   "id": "39db8c35-eef8-4aeb-9fba-b0d78cbd30e5",
   "metadata": {},
   "outputs": [
    {
     "data": {
      "text/plain": [
       "<function __main__.<lambda>(var)>"
      ]
     },
     "execution_count": 26,
     "metadata": {},
     "output_type": "execute_result"
    }
   ],
   "source": [
    "lambda var : var*2"
   ]
  },
  {
   "cell_type": "code",
   "execution_count": 27,
   "id": "ed5f0e6c-8be6-4b44-a55e-0e16d240e759",
   "metadata": {},
   "outputs": [],
   "source": [
    "#methods "
   ]
  },
  {
   "cell_type": "code",
   "execution_count": 28,
   "id": "c470ea29-6404-4984-a153-4ac358552da2",
   "metadata": {},
   "outputs": [],
   "source": [
    "#methods on string"
   ]
  },
  {
   "cell_type": "code",
   "execution_count": 29,
   "id": "187b15a1-ef94-49f4-b4dd-d7e13f1d297f",
   "metadata": {},
   "outputs": [],
   "source": [
    "st = \"helllo my name is sma\""
   ]
  },
  {
   "cell_type": "code",
   "execution_count": 30,
   "id": "737a343b-33f4-454e-a843-3d6d7f946012",
   "metadata": {},
   "outputs": [
    {
     "data": {
      "text/plain": [
       "'HELLLO MY NAME IS SMA'"
      ]
     },
     "execution_count": 30,
     "metadata": {},
     "output_type": "execute_result"
    }
   ],
   "source": [
    "st.upper() #convert all letters to upper case"
   ]
  },
  {
   "cell_type": "code",
   "execution_count": 31,
   "id": "dd0ec014-e8ab-454f-a433-5d9992fc5ffa",
   "metadata": {},
   "outputs": [
    {
     "data": {
      "text/plain": [
       "'helllo my name is sma'"
      ]
     },
     "execution_count": 31,
     "metadata": {},
     "output_type": "execute_result"
    }
   ],
   "source": [
    "st.lower()# convert all letters to lower case"
   ]
  },
  {
   "cell_type": "code",
   "execution_count": 32,
   "id": "18909dd6-dbab-4a08-9c46-82375c3d3ee6",
   "metadata": {},
   "outputs": [
    {
     "data": {
      "text/plain": [
       "['helllo', 'my', 'name', 'is', 'sma']"
      ]
     },
     "execution_count": 32,
     "metadata": {},
     "output_type": "execute_result"
    }
   ],
   "source": [
    "st.split() # split the string in list based on white space"
   ]
  },
  {
   "cell_type": "code",
   "execution_count": 35,
   "id": "d4f27795-1661-4f32-81e8-229ec439324a",
   "metadata": {},
   "outputs": [],
   "source": [
    "tw = 'hello #cat'"
   ]
  },
  {
   "cell_type": "code",
   "execution_count": 36,
   "id": "8bcb9dda-42bc-4e01-a0bb-48de534972a4",
   "metadata": {},
   "outputs": [
    {
     "data": {
      "text/plain": [
       "['hello', '#cat']"
      ]
     },
     "execution_count": 36,
     "metadata": {},
     "output_type": "execute_result"
    }
   ],
   "source": [
    "tw.split()"
   ]
  },
  {
   "cell_type": "code",
   "execution_count": 37,
   "id": "0d9dfa23-8288-4237-8439-79e7812a4a22",
   "metadata": {},
   "outputs": [
    {
     "data": {
      "text/plain": [
       "['hello ', 'cat']"
      ]
     },
     "execution_count": 37,
     "metadata": {},
     "output_type": "execute_result"
    }
   ],
   "source": [
    "tw.split(\"#\")"
   ]
  },
  {
   "cell_type": "code",
   "execution_count": 38,
   "id": "3e629bba-2a64-4e31-bad9-11a295a042e1",
   "metadata": {},
   "outputs": [
    {
     "data": {
      "text/plain": [
       "'cat'"
      ]
     },
     "execution_count": 38,
     "metadata": {},
     "output_type": "execute_result"
    }
   ],
   "source": [
    "tw.split(\"#\")[-1]"
   ]
  },
  {
   "cell_type": "code",
   "execution_count": null,
   "id": "3c1b28f4-b0f7-4214-9e49-4cb996108a23",
   "metadata": {},
   "outputs": [],
   "source": [
    "d ={'k1':"
   ]
  }
 ],
 "metadata": {
  "kernelspec": {
   "display_name": "Python 3 (ipykernel)",
   "language": "python",
   "name": "python3"
  },
  "language_info": {
   "codemirror_mode": {
    "name": "ipython",
    "version": 3
   },
   "file_extension": ".py",
   "mimetype": "text/x-python",
   "name": "python",
   "nbconvert_exporter": "python",
   "pygments_lexer": "ipython3",
   "version": "3.12.3"
  }
 },
 "nbformat": 4,
 "nbformat_minor": 5
}
